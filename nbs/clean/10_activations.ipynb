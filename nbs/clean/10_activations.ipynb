{
 "cells": [
  {
   "cell_type": "code",
   "execution_count": 1,
   "id": "12823574-4482-48d7-9ec5-1bc8a19badac",
   "metadata": {
    "tags": []
   },
   "outputs": [],
   "source": [
    "#|default_exp activations"
   ]
  },
  {
   "cell_type": "markdown",
   "id": "a90d3922-20c7-4aab-a327-e62433b76148",
   "metadata": {},
   "source": [
    "# Activations stats"
   ]
  },
  {
   "cell_type": "code",
   "execution_count": 2,
   "id": "c2ebcbf3-812d-448f-a9a6-e8c1e8dc5a7a",
   "metadata": {
    "tags": []
   },
   "outputs": [],
   "source": [
    "#|export\n",
    "from __future__ import annotations\n",
    "import math\n",
    "import random\n",
    "import torch\n",
    "import numpy as np\n",
    "import matplotlib.pyplot as plt\n",
    "import fastcore.all as fc\n",
    "from functools import partial\n",
    "\n",
    "from miniai.datasets import *\n",
    "from miniai.learner import * "
   ]
  },
  {
   "cell_type": "code",
   "execution_count": 3,
   "id": "b3f14633-d7a7-4fe1-a7aa-3c8cd9c7690f",
   "metadata": {
    "tags": []
   },
   "outputs": [],
   "source": [
    "import torch.nn.functional as F\n",
    "from pathlib import Path\n",
    "from operator import attrgetter, itemgetter\n",
    "\n",
    "from torch import tensor, nn, optim\n",
    "import torchvision.transforms.functional as TF\n",
    "from datasets import load_dataset\n",
    "\n",
    "from fastcore.test import test_close\n",
    "from IPython.core.debugger import set_trace"
   ]
  },
  {
   "cell_type": "code",
   "execution_count": 4,
   "id": "2a6103dd-de43-4898-8c43-5e86ee9fba69",
   "metadata": {
    "tags": []
   },
   "outputs": [],
   "source": [
    "torch.set_printoptions(precision=2, linewidth=140, sci_mode=False)\n",
    "import logging; logging.disable(logging.WARNING)"
   ]
  },
  {
   "cell_type": "code",
   "execution_count": 5,
   "id": "d3a17b00-d5ae-41ae-b0d6-dfcb0c754a6b",
   "metadata": {
    "tags": []
   },
   "outputs": [],
   "source": [
    "#|export\n",
    "def set_seed(seed, deterministic=False):\n",
    "    torch.use_deterministic_algorithms(deterministic)\n",
    "    torch.manual_seed(seed)\n",
    "    random.seed(seed)\n",
    "    np.random.seed(seed)"
   ]
  },
  {
   "cell_type": "code",
   "execution_count": 6,
   "id": "36f59d68-cf25-4b70-b15d-2e022dab3b2d",
   "metadata": {
    "tags": []
   },
   "outputs": [
    {
     "data": {
      "application/vnd.jupyter.widget-view+json": {
       "model_id": "64e8f9cea8f04652af2a34706945531a",
       "version_major": 2,
       "version_minor": 0
      },
      "text/plain": [
       "  0%|          | 0/2 [00:00<?, ?it/s]"
      ]
     },
     "metadata": {},
     "output_type": "display_data"
    }
   ],
   "source": [
    "x,y = 'image', 'label'\n",
    "name = \"fashion_mnist\"\n",
    "dsd = load_dataset(name)\n",
    "bs = 1024\n",
    "\n",
    "@inplace\n",
    "def transformi(b): b[x] = [TF.to_tensor(o) for o in b[x]]\n",
    "\n",
    "tds = dsd.with_transform(transformi)\n",
    "dls = DataLoaders.from_dd(tds, bs, num_workers=4)\n",
    "dt = dls.train"
   ]
  },
  {
   "cell_type": "markdown",
   "id": "701a994f-5e4a-4167-be18-f667ee225544",
   "metadata": {},
   "source": [
    "## Baseline"
   ]
  },
  {
   "cell_type": "code",
   "execution_count": 7,
   "id": "b9232090-8aa5-48db-84b8-34ac06df9523",
   "metadata": {
    "tags": []
   },
   "outputs": [],
   "source": [
    "def conv(ni, nf, ks=3, act=True):\n",
    "    res = nn.Conv2d(ni, nf, stride=2, kernel_size=ks, padding=ks//2)\n",
    "    if act: res = nn.Sequential(res, nn.ReLU())\n",
    "    return res\n",
    "\n",
    "def cnn_layers():\n",
    "    return [\n",
    "        conv(1, 8),   # 14x14\n",
    "        conv(8, 16),  # 7x7\n",
    "        conv(16, 32), # 4x4\n",
    "        conv(32, 64), # 2x2\n",
    "        conv(64, 10, act=False), #1x1\n",
    "        nn.Flatten()]"
   ]
  },
  {
   "cell_type": "code",
   "execution_count": 8,
   "id": "c5a98de9-e2b1-4130-8fe7-f8029ec2e46d",
   "metadata": {
    "tags": []
   },
   "outputs": [],
   "source": [
    "from torcheval.metrics import MulticlassAccuracy"
   ]
  },
  {
   "cell_type": "code",
   "execution_count": 9,
   "id": "c870b8ca-60ff-486a-a554-61abcbea19f3",
   "metadata": {
    "tags": []
   },
   "outputs": [],
   "source": [
    "metrics = MetricsCB(accuracy=MulticlassAccuracy())\n",
    "cbs = [DeviceCB(), metrics, ProgressCB(plot=True)]"
   ]
  },
  {
   "cell_type": "code",
   "execution_count": 10,
   "id": "490e6e0d-bdbf-44e7-bad8-7e111dc9dfbc",
   "metadata": {
    "tags": []
   },
   "outputs": [],
   "source": [
    "def fit(model, epochs=1, xtra_cbs=None):\n",
    "    learn = Learner(model, dls, loss_func=F.cross_entropy, lr=0.6, cbs=cbs+fc.L(xtra_cbs))\n",
    "    learn.fit(epochs)\n",
    "    return learn"
   ]
  },
  {
   "cell_type": "code",
   "execution_count": 11,
   "id": "15044552-0883-4ec5-bf13-094216fc31da",
   "metadata": {
    "tags": []
   },
   "outputs": [
    {
     "data": {
      "text/html": [
       "\n",
       "<style>\n",
       "    /* Turns off some styling */\n",
       "    progress {\n",
       "        /* gets rid of default border in Firefox and Opera. */\n",
       "        border: none;\n",
       "        /* Needs to be in here for Safari polyfill so background images work as expected. */\n",
       "        background-size: auto;\n",
       "    }\n",
       "    progress:not([value]), progress:not([value])::-webkit-progress-bar {\n",
       "        background: repeating-linear-gradient(45deg, #7e7e7e, #7e7e7e 10px, #5c5c5c 10px, #5c5c5c 20px);\n",
       "    }\n",
       "    .progress-bar-interrupted, .progress-bar-interrupted::-webkit-progress-bar {\n",
       "        background: #F44336;\n",
       "    }\n",
       "</style>\n"
      ],
      "text/plain": [
       "<IPython.core.display.HTML object>"
      ]
     },
     "metadata": {},
     "output_type": "display_data"
    },
    {
     "data": {
      "text/html": [
       "<table border=\"1\" class=\"dataframe\">\n",
       "  <thead>\n",
       "    <tr style=\"text-align: left;\">\n",
       "      <th>accuracy</th>\n",
       "      <th>loss</th>\n",
       "      <th>epoch</th>\n",
       "      <th>train</th>\n",
       "    </tr>\n",
       "  </thead>\n",
       "  <tbody>\n",
       "    <tr>\n",
       "      <td>0.161</td>\n",
       "      <td>2.272</td>\n",
       "      <td>0</td>\n",
       "      <td>train</td>\n",
       "    </tr>\n",
       "    <tr>\n",
       "      <td>0.308</td>\n",
       "      <td>1.760</td>\n",
       "      <td>0</td>\n",
       "      <td>eval</td>\n",
       "    </tr>\n",
       "  </tbody>\n",
       "</table>"
      ],
      "text/plain": [
       "<IPython.core.display.HTML object>"
      ]
     },
     "metadata": {},
     "output_type": "display_data"
    },
    {
     "data": {
      "image/png": "[encoded data removed]",
      "text/plain": [
       "<Figure size 600x400 with 1 Axes>"
      ]
     },
     "metadata": {},
     "output_type": "display_data"
    }
   ],
   "source": [
    "set_seed(1)\n",
    "learn = fit(nn.Sequential(*cnn_layers()))"
   ]
  },
  {
   "cell_type": "markdown",
   "id": "680638a8-7270-4281-927d-6846d19430ed",
   "metadata": {},
   "source": [
    "## Hooks\n",
    "\n",
    "### Manual insertion"
   ]
  },
  {
   "cell_type": "code",
   "execution_count": 12,
   "id": "153efcc2-4731-46c0-bfcf-603c302fc2bf",
   "metadata": {
    "tags": []
   },
   "outputs": [],
   "source": [
    "class SequentialModel(nn.Module):\n",
    "    def __init__(self, *layers):\n",
    "        super().__init__()\n",
    "        self.layers = nn.ModuleList(layers)\n",
    "        self.act_means = [[] for _ in layers]\n",
    "        self.act_stds = [[] for _ in layers]\n",
    "        \n",
    "    def __call__(self, x):\n",
    "        for i, l in enumerate(self.layers):\n",
    "            x = l(x)\n",
    "            self.act_means[i].append(to_cpu(x).mean())\n",
    "            self.act_stds[i].append(to_cpu(x).std())\n",
    "        return x\n",
    "\n",
    "    def __iter__(self): return iter(self.layers)"
   ]
  },
  {
   "cell_type": "code",
   "execution_count": 13,
   "id": "53137d2b-8e28-455d-938d-b31dd3cc4d60",
   "metadata": {
    "tags": []
   },
   "outputs": [
    {
     "data": {
      "text/html": [
       "\n",
       "<style>\n",
       "    /* Turns off some styling */\n",
       "    progress {\n",
       "        /* gets rid of default border in Firefox and Opera. */\n",
       "        border: none;\n",
       "        /* Needs to be in here for Safari polyfill so background images work as expected. */\n",
       "        background-size: auto;\n",
       "    }\n",
       "    progress:not([value]), progress:not([value])::-webkit-progress-bar {\n",
       "        background: repeating-linear-gradient(45deg, #7e7e7e, #7e7e7e 10px, #5c5c5c 10px, #5c5c5c 20px);\n",
       "    }\n",
       "    .progress-bar-interrupted, .progress-bar-interrupted::-webkit-progress-bar {\n",
       "        background: #F44336;\n",
       "    }\n",
       "</style>\n"
      ],
      "text/plain": [
       "<IPython.core.display.HTML object>"
      ]
     },
     "metadata": {},
     "output_type": "display_data"
    },
    {
     "data": {
      "text/html": [
       "<table border=\"1\" class=\"dataframe\">\n",
       "  <thead>\n",
       "    <tr style=\"text-align: left;\">\n",
       "      <th>accuracy</th>\n",
       "      <th>loss</th>\n",
       "      <th>epoch</th>\n",
       "      <th>train</th>\n",
       "    </tr>\n",
       "  </thead>\n",
       "  <tbody>\n",
       "    <tr>\n",
       "      <td>0.161</td>\n",
       "      <td>2.272</td>\n",
       "      <td>0</td>\n",
       "      <td>train</td>\n",
       "    </tr>\n",
       "    <tr>\n",
       "      <td>0.308</td>\n",
       "      <td>1.760</td>\n",
       "      <td>0</td>\n",
       "      <td>eval</td>\n",
       "    </tr>\n",
       "  </tbody>\n",
       "</table>"
      ],
      "text/plain": [
       "<IPython.core.display.HTML object>"
      ]
     },
     "metadata": {},
     "output_type": "display_data"
    },
    {
     "data": {
      "image/png": "[encoded data removed]",
      "text/plain": [
       "<Figure size 600x400 with 1 Axes>"
      ]
     },
     "metadata": {},
     "output_type": "display_data"
    }
   ],
   "source": [
    "set_seed(1)\n",
    "model = SequentialModel(*cnn_layers())\n",
    "learn = fit(model)"
   ]
  },
  {
   "cell_type": "code",
   "execution_count": 14,
   "id": "35e6f4c0-4c39-4db6-948a-6173ff69d082",
   "metadata": {
    "tags": []
   },
   "outputs": [
    {
     "data": {
      "text/plain": [
       "<matplotlib.legend.Legend at 0x1685d4160>"
      ]
     },
     "execution_count": 14,
     "metadata": {},
     "output_type": "execute_result"
    },
    {
     "data": {
      "image/png": "[encoded data removed]",
      "text/plain": [
       "<Figure size 640x480 with 1 Axes>"
      ]
     },
     "metadata": {},
     "output_type": "display_data"
    }
   ],
   "source": [
    "for l in model.act_means: plt.plot(l)\n",
    "plt.legend(range(5))"
   ]
  },
  {
   "cell_type": "code",
   "execution_count": 15,
   "id": "143b7db3-0344-4a58-9ce5-c5441e09c403",
   "metadata": {
    "tags": []
   },
   "outputs": [
    {
     "data": {
      "text/plain": [
       "<matplotlib.legend.Legend at 0x16b90a440>"
      ]
     },
     "execution_count": 15,
     "metadata": {},
     "output_type": "execute_result"
    },
    {
     "data": {
      "image/png": "[encoded data removed]",
      "text/plain": [
       "<Figure size 640x480 with 1 Axes>"
      ]
     },
     "metadata": {},
     "output_type": "display_data"
    }
   ],
   "source": [
    "for l in model.act_stds: plt.plot(l)\n",
    "plt.legend(range(5))"
   ]
  },
  {
   "cell_type": "markdown",
   "id": "c6b66abc-be2a-4b29-bbfa-1a0d652224f4",
   "metadata": {},
   "source": [
    "### Hooks"
   ]
  },
  {
   "cell_type": "code",
   "execution_count": 16,
   "id": "91d6be27-85d3-44f6-8f91-04573a0cef88",
   "metadata": {
    "tags": []
   },
   "outputs": [],
   "source": [
    "set_seed(1)\n",
    "model = nn.Sequential(*cnn_layers())"
   ]
  },
  {
   "cell_type": "code",
   "execution_count": 17,
   "id": "a934c7fe-606a-4dc8-ad7e-c428b24dfaeb",
   "metadata": {
    "tags": []
   },
   "outputs": [],
   "source": [
    "act_means = [[] for _ in model]\n",
    "act_stds = [[] for _ in model]"
   ]
  },
  {
   "cell_type": "code",
   "execution_count": 18,
   "id": "afc1ed9f-a58b-436b-87ee-6d1a3504c293",
   "metadata": {
    "tags": []
   },
   "outputs": [],
   "source": [
    "def append_stats(i, model, inp, out):\n",
    "    act_means[i].append(to_cpu(out).mean())\n",
    "    act_stds[i].append(to_cpu(out).std())"
   ]
  },
  {
   "cell_type": "code",
   "execution_count": 19,
   "id": "2e3b0c29-c6da-4bc9-a34f-e1aff1f7c0bc",
   "metadata": {
    "tags": []
   },
   "outputs": [],
   "source": [
    "for i, m in enumerate(model):\n",
    "    m.register_forward_hook(partial(append_stats, i))"
   ]
  },
  {
   "cell_type": "code",
   "execution_count": 20,
   "id": "dabfd051-18df-46bc-b3ed-c3aabcd2c6b3",
   "metadata": {
    "tags": []
   },
   "outputs": [
    {
     "data": {
      "text/html": [
       "\n",
       "<style>\n",
       "    /* Turns off some styling */\n",
       "    progress {\n",
       "        /* gets rid of default border in Firefox and Opera. */\n",
       "        border: none;\n",
       "        /* Needs to be in here for Safari polyfill so background images work as expected. */\n",
       "        background-size: auto;\n",
       "    }\n",
       "    progress:not([value]), progress:not([value])::-webkit-progress-bar {\n",
       "        background: repeating-linear-gradient(45deg, #7e7e7e, #7e7e7e 10px, #5c5c5c 10px, #5c5c5c 20px);\n",
       "    }\n",
       "    .progress-bar-interrupted, .progress-bar-interrupted::-webkit-progress-bar {\n",
       "        background: #F44336;\n",
       "    }\n",
       "</style>\n"
      ],
      "text/plain": [
       "<IPython.core.display.HTML object>"
      ]
     },
     "metadata": {},
     "output_type": "display_data"
    },
    {
     "data": {
      "text/html": [
       "\n",
       "    <div>\n",
       "      <progress value='0' class='' max='1' style='width:300px; height:20px; vertical-align: middle;'></progress>\n",
       "      0.00% [0/1 00:00&lt;?]\n",
       "    </div>\n",
       "    \n",
       "\n",
       "\n",
       "    <div>\n",
       "      <progress value='0' class='' max='59' style='width:300px; height:20px; vertical-align: middle;'></progress>\n",
       "      0.00% [0/59 00:00&lt;?]\n",
       "    </div>\n",
       "    "
      ],
      "text/plain": [
       "<IPython.core.display.HTML object>"
      ]
     },
     "metadata": {},
     "output_type": "display_data"
    },
    {
     "name": "stderr",
     "output_type": "stream",
     "text": [
      "\n",
      "KeyboardInterrupt\n",
      "\n"
     ]
    }
   ],
   "source": [
    "fit(model)"
   ]
  },
  {
   "cell_type": "code",
   "execution_count": null,
   "id": "ac75ec3d-7f5c-4293-ac79-9c10ed18005e",
   "metadata": {
    "tags": []
   },
   "outputs": [],
   "source": [
    "for o in act_means: plt.plot(o)\n",
    "plt.legend(range(5))"
   ]
  },
  {
   "cell_type": "code",
   "execution_count": null,
   "id": "c3712780-646e-48e6-8e98-62be98622612",
   "metadata": {
    "tags": []
   },
   "outputs": [],
   "source": [
    "for o in act_stds: plt.plot(o)\n",
    "plt.legend(range(5))"
   ]
  },
  {
   "cell_type": "code",
   "execution_count": null,
   "id": "e559bd15-7e0c-4b44-8266-00ed4cecdfa5",
   "metadata": {
    "tags": []
   },
   "outputs": [],
   "source": [
    "#|export\n",
    "class Hook:\n",
    "    def __init__(self, m): self.hook = m.register_forward_hook(self)\n",
    "    def __call__(self, mod, inp, out): pass\n",
    "    def remove(self): self.hook.remove()\n",
    "    def __del__(self): self.remove()"
   ]
  },
  {
   "cell_type": "code",
   "execution_count": null,
   "id": "37206a71-32be-43ce-942b-afe4476aa856",
   "metadata": {
    "tags": []
   },
   "outputs": [],
   "source": [
    "#|export\n",
    "def hook(func):\n",
    "    class HookFunc(Hook):\n",
    "        def __call__(self, mod, inp, out):\n",
    "            return func(self, mod, inp, out)\n",
    "    return HookFunc"
   ]
  },
  {
   "cell_type": "code",
   "execution_count": null,
   "id": "af1d9a62-1ce1-4da6-a8bc-0418312727d4",
   "metadata": {
    "tags": []
   },
   "outputs": [],
   "source": [
    "class StatsHook(Hook):\n",
    "    def __init__(self, m):\n",
    "        super().__init__(m)\n",
    "        self.stats = ([], [])\n",
    "        \n",
    "    def __call__(self, mod, inp, out): \n",
    "        acts = to_cpu(out)\n",
    "        self.stats[0].append(acts.mean())\n",
    "        self.stats[1].append(acts.std())"
   ]
  },
  {
   "cell_type": "code",
   "execution_count": null,
   "id": "32bb9d50-e2d7-425f-8b3f-3b42065b02ab",
   "metadata": {
    "tags": []
   },
   "outputs": [],
   "source": [
    "set_seed(1)\n",
    "model = nn.Sequential(*cnn_layers())"
   ]
  },
  {
   "cell_type": "code",
   "execution_count": null,
   "id": "6d3f982e-9494-41a5-adb7-76d909fb406d",
   "metadata": {
    "tags": []
   },
   "outputs": [],
   "source": [
    "hooks = [StatsHook(l) for l in model[:5].children()]"
   ]
  },
  {
   "cell_type": "code",
   "execution_count": null,
   "id": "460aede8-e92c-4cf3-a948-4f0a4028c319",
   "metadata": {
    "tags": []
   },
   "outputs": [],
   "source": [
    "learn = fit(model)"
   ]
  },
  {
   "cell_type": "code",
   "execution_count": null,
   "id": "ea72b6cf-9895-4bb7-b58f-c648598f4cb4",
   "metadata": {
    "tags": []
   },
   "outputs": [],
   "source": [
    "for h in hooks:\n",
    "    plt.plot(h.stats[0])\n",
    "    h.remove()\n",
    "plt.legend(range(5));"
   ]
  },
  {
   "cell_type": "code",
   "execution_count": null,
   "id": "76a70ad8-9b7f-4104-b254-9ba756157dc7",
   "metadata": {
    "tags": []
   },
   "outputs": [],
   "source": [
    "@hook\n",
    "def stats_hook(hook, m, inp, out):\n",
    "    if not hasattr(hook, 'stats'): hook.stats = ([], [])\n",
    "    acts = to_cpu(out)\n",
    "    self.stats[0].append(acts.mean())\n",
    "    self.stats[1].append(acts.std())    "
   ]
  },
  {
   "cell_type": "code",
   "execution_count": null,
   "id": "94dc63dd-4086-4217-bf8f-077cc3620d62",
   "metadata": {
    "tags": []
   },
   "outputs": [],
   "source": [
    "set_seed(1)\n",
    "model = nn.Sequential(*cnn_layers())"
   ]
  },
  {
   "cell_type": "code",
   "execution_count": null,
   "id": "ae8fa070-ce2c-421d-87a8-6d0d50993175",
   "metadata": {
    "tags": []
   },
   "outputs": [],
   "source": [
    "hooks = [StatsHook(l) for l in model[:5].children()]"
   ]
  },
  {
   "cell_type": "code",
   "execution_count": null,
   "id": "8bed2ba7-bcf9-4de4-8197-996e4ef0685c",
   "metadata": {
    "tags": []
   },
   "outputs": [],
   "source": [
    "learn = fit(model)"
   ]
  },
  {
   "cell_type": "code",
   "execution_count": null,
   "id": "94b28d94-52bf-476f-b4bc-802b8db00ce7",
   "metadata": {
    "tags": []
   },
   "outputs": [],
   "source": [
    "for h in hooks:\n",
    "    plt.plot(h.stats[0])\n",
    "    h.remove()\n",
    "plt.legend(range(5));"
   ]
  },
  {
   "cell_type": "code",
   "execution_count": null,
   "id": "fad526b2-e6ed-44c9-9f7c-242dee1c795e",
   "metadata": {
    "tags": []
   },
   "outputs": [],
   "source": [
    "a = {'hello': 'world', 'hey': 'you'}"
   ]
  },
  {
   "cell_type": "code",
   "execution_count": null,
   "id": "a99f2c7d-1418-47b8-804b-9150f9c604d0",
   "metadata": {
    "tags": []
   },
   "outputs": [],
   "source": [
    "test(list(range(3)), hello=\"world\")"
   ]
  },
  {
   "cell_type": "code",
   "execution_count": null,
   "id": "54cdf198-7ea8-45d3-93f1-60d91d2e874e",
   "metadata": {},
   "outputs": [],
   "source": []
  },
  {
   "cell_type": "code",
   "execution_count": 40,
   "id": "1082e971-3b7c-4331-9c45-8ce7a8dc891e",
   "metadata": {
    "tags": []
   },
   "outputs": [],
   "source": [
    "#|export\n",
    "from IPython.core.debugger import set_trace\n",
    "\n",
    "def _model_iter(ms):\n",
    "    if len(ms) == 0:\n",
    "        return \n",
    "    m, *rest = ms    \n",
    "    children = list(m.children())\n",
    "    if len(children) == 0:\n",
    "        yield m\n",
    "        \n",
    "    rest = children + rest\n",
    "    yield from _model_iter(rest)\n",
    "\n",
    "def model_iter(m):\n",
    "    return _model_iter([m])"
   ]
  },
  {
   "cell_type": "code",
   "execution_count": 54,
   "id": "2b9c97a8-8bc8-472b-afa7-8f86c7389b43",
   "metadata": {},
   "outputs": [],
   "source": [
    "#| export\n",
    "from IPython.core.debugger import set_trace\n",
    "\n",
    "class Hooks(dict):\n",
    "    def __init__(self, *ms, **hooks):\n",
    "        hook_fns = {key: [t for t in (hook(l) for l in ms) if t is not None] \n",
    "                          for key, hook in hooks.items()}\n",
    "        super().__init__(hook_fns) \n",
    "        \n",
    "    def __enter__(self, *args): return self\n",
    "\n",
    "    def __exit__(self, *args): self.remove()\n",
    "    def remove(self): \n",
    "        for key in self.keys(): \n",
    "            for hook in self[key]:\n",
    "                hook.remove()\n",
    "\n",
    "    def __del__(self): self.remove()\n",
    "    def __delitem__(self, key): \n",
    "        self[key].remove()\n",
    "        super().__delitem__(key)"
   ]
  },
  {
   "cell_type": "code",
   "execution_count": 53,
   "id": "0ae085b5-5afa-43a4-9510-e4b78b1a3bcd",
   "metadata": {
    "tags": []
   },
   "outputs": [],
   "source": [
    "import nbdev; nbdev.nbdev_export()"
   ]
  },
  {
   "cell_type": "code",
   "execution_count": null,
   "id": "434a6e6c-1181-49a0-a74d-95940cfd4474",
   "metadata": {
    "tags": []
   },
   "outputs": [],
   "source": [
    "#| export\n",
    "class ActivationsHook(Hook):\n",
    "    def __init__(self, m): \n",
    "        super().__init__(m)\n",
    "        self.acts = []\n",
    "        \n",
    "    def __call__(self, m, inp, out):\n",
    "        self.acts.append(to_cpu(out))"
   ]
  },
  {
   "cell_type": "code",
   "execution_count": null,
   "id": "79940683-af50-4438-a2b9-4c793302c44a",
   "metadata": {
    "tags": []
   },
   "outputs": [],
   "source": [
    "set_seed(1)\n",
    "model = nn.Sequential(*cnn_layers())\n",
    "\n",
    "t = None\n",
    "\n",
    "with Hooks(model, stats=StatsHook) as hooks:\n",
    "    fit(model)\n",
    "    fig, axs = plt.subplots(1,2, figsize=(10, 4))\n",
    "    for h in hooks['stats']:\n",
    "        for i in 0,1:\n",
    "            axs[i].plot(h.stats[i])\n",
    "    plt.legend(range(6))"
   ]
  },
  {
   "cell_type": "markdown",
   "id": "81301ce4-4924-457a-9160-d0566d9abae3",
   "metadata": {},
   "source": [
    "## HooksCB"
   ]
  },
  {
   "cell_type": "code",
   "execution_count": null,
   "id": "6d97a97b-c80b-46d2-bbe6-f51492f3c129",
   "metadata": {
    "tags": []
   },
   "outputs": [],
   "source": [
    "a = {'a':[1], 'b': [2, 3]}"
   ]
  },
  {
   "cell_type": "code",
   "execution_count": 55,
   "id": "c6531dfe-5df6-468d-af11-8a0a04b5d70c",
   "metadata": {
    "tags": []
   },
   "outputs": [
    {
     "ename": "NameError",
     "evalue": "name 'Callback' is not defined",
     "output_type": "error",
     "traceback": [
      "\u001b[0;31m---------------------------------------------------------------------------\u001b[0m",
      "\u001b[0;31mNameError\u001b[0m                                 Traceback (most recent call last)",
      "Cell \u001b[0;32mIn[55], line 2\u001b[0m\n\u001b[1;32m      1\u001b[0m \u001b[38;5;66;03m#|export\u001b[39;00m\n\u001b[0;32m----> 2\u001b[0m \u001b[38;5;28;01mclass\u001b[39;00m \u001b[38;5;21;01mHooksCB\u001b[39;00m(\u001b[43mCallback\u001b[49m):\n\u001b[1;32m      3\u001b[0m     \u001b[38;5;28;01mdef\u001b[39;00m \u001b[38;5;21m__init__\u001b[39m(\u001b[38;5;28mself\u001b[39m, hook, module_filter\u001b[38;5;241m=\u001b[39mfc\u001b[38;5;241m.\u001b[39mnoop, on_train\u001b[38;5;241m=\u001b[39m\u001b[38;5;28;01mTrue\u001b[39;00m, on_valid\u001b[38;5;241m=\u001b[39m\u001b[38;5;28;01mFalse\u001b[39;00m, modules\u001b[38;5;241m=\u001b[39m\u001b[38;5;28;01mNone\u001b[39;00m):\n\u001b[1;32m      4\u001b[0m         fc\u001b[38;5;241m.\u001b[39mstore_attr()\n",
      "\u001b[0;31mNameError\u001b[0m: name 'Callback' is not defined"
     ]
    }
   ],
   "source": [
    "#|export\n",
    "class HooksCB(Callback):\n",
    "    def __init__(self, hook, module_filter=fc.noop, on_train=True, on_valid=False, modules=None):\n",
    "        fc.store_attr()\n",
    "        super().__init__()\n",
    "    \n",
    "    def before_fit(self, learn: Learner):\n",
    "        if self.modules: modules=self.modules\n",
    "        else: modules = fc.filter_ex(learn.model.modules(), self.module_filter)\n",
    "        self.hooks = Hooks(*modules, hook=partial(self.hookfunc, learn))\n",
    "    \n",
    "    def hookfunc(self, learn: Learner, *args, **kwargs):\n",
    "        if (self.on_train and learn.training) or (self.on_valid and not learn.training):\n",
    "            return self.hook(*args, **kwargs)\n",
    "            \n",
    "    def after_fit(self, learn): self.hooks.remove()\n",
    "    \n",
    "    def __iter__(self): \n",
    "        if len(self.hooks.keys()) == 1:\n",
    "            return iter(self.hooks[list(self.hooks.keys())[0]])\n",
    "        return iter(self.hooks.items())\n",
    "    \n",
    "    def __len__(self): \n",
    "        if len(self.hooks.keys()) == 1:\n",
    "            return len(self.hooks[list(self.hooks.keys())[0]])\n",
    "        return len(self.hooks)"
   ]
  },
  {
   "cell_type": "code",
   "execution_count": null,
   "id": "761686af-7a8f-4635-af3f-c997dee6d8ac",
   "metadata": {
    "tags": []
   },
   "outputs": [],
   "source": [
    "hc = HooksCB(StatsHook, module_filter=fc.risinstance(nn.Conv2d))"
   ]
  },
  {
   "cell_type": "code",
   "execution_count": null,
   "id": "a1c51aef-67af-48c5-9f43-82d87adb225f",
   "metadata": {
    "tags": []
   },
   "outputs": [],
   "source": [
    "set_seed(1)\n",
    "model = nn.Sequential(*cnn_layers())\n",
    "fit(model, xtra_cbs=[hc])"
   ]
  },
  {
   "cell_type": "code",
   "execution_count": null,
   "id": "78c84382-c1f6-413f-8f95-3edf57e90a6d",
   "metadata": {
    "tags": []
   },
   "outputs": [],
   "source": [
    "fig, axs = plt.subplots(1,2, figsize=(10,4))\n",
    "for hook in hc:\n",
    "    for i in 0,1:\n",
    "        axs[i].plot(hook.stats[i])\n",
    "\n",
    "plt.legend(range(len(hooks)));"
   ]
  },
  {
   "cell_type": "markdown",
   "id": "56612e49-186d-4c52-8016-667828ff9f1b",
   "metadata": {},
   "source": [
    "## Histograms"
   ]
  },
  {
   "cell_type": "code",
   "execution_count": null,
   "id": "0213c8ab-3bcc-4597-bb28-5c2063e7a071",
   "metadata": {
    "tags": []
   },
   "outputs": [],
   "source": [
    "#| export\n",
    "class HistogramHook(Hook):\n",
    "    def __init__(self, m):\n",
    "        super().__init__(m)\n",
    "        self.stats = ([], [], [])\n",
    "\n",
    "    def __call__(self, mod, inp, out): \n",
    "        acts = to_cpu(out)\n",
    "        self.stats[0].append(acts.mean())\n",
    "        self.stats[1].append(acts.std())\n",
    "        self.stats[2].append(acts.abs().histc(50, 0, 10))"
   ]
  },
  {
   "cell_type": "code",
   "execution_count": null,
   "id": "19d8ccef-9610-4a30-806d-268d055c22c0",
   "metadata": {
    "tags": []
   },
   "outputs": [],
   "source": [
    "set_seed(1)\n",
    "model = nn.Sequential(*cnn_layers())\n",
    "hc = HooksCB(HistogramHook, module_filter=fc.risinstance(nn.Conv2d))\n",
    "fit(model, xtra_cbs=[hc])"
   ]
  },
  {
   "cell_type": "code",
   "execution_count": null,
   "id": "5ff2b205-770f-45e0-be18-f10c1fb7a659",
   "metadata": {
    "tags": []
   },
   "outputs": [],
   "source": [
    "#| export\n",
    "def get_hist(h): return torch.stack(h.stats[2]).t().float().log1p()\n",
    "\n",
    "def get_min(h): # Proportion of the smallest 2% activations compared to the rest\n",
    "    h1 = torch.stack(h.stats[2]).t().float()\n",
    "    return h1[0]/h1.sum(0)"
   ]
  },
  {
   "cell_type": "code",
   "execution_count": null,
   "id": "2ab37822-c24a-412b-9ca4-c3319f8265af",
   "metadata": {
    "tags": []
   },
   "outputs": [],
   "source": []
  },
  {
   "cell_type": "code",
   "execution_count": null,
   "id": "0fb4fe02-c59a-4054-ad78-59346ebd1956",
   "metadata": {
    "tags": []
   },
   "outputs": [],
   "source": [
    "fig, axs = get_grid(len(hc), figsize=(10,10))\n",
    "for ax, h in zip(axs.flat, hc):\n",
    "    show_image(get_hist(h), ax, origin='lower')\n",
    "    "
   ]
  },
  {
   "cell_type": "code",
   "execution_count": null,
   "id": "b11b7dc2-590d-4c43-b828-72aada8b21db",
   "metadata": {
    "tags": []
   },
   "outputs": [],
   "source": [
    "fig, axs = get_grid(len(hc), figsize=(10,4))\n",
    "for ax, h in zip(axs.flat, hc):\n",
    "    ax.plot(get_min(h))\n",
    "    ax.set_ylim(0,1)"
   ]
  },
  {
   "cell_type": "markdown",
   "id": "2e20162c-3275-4437-894e-a8ff8a859582",
   "metadata": {},
   "source": [
    "## ActivationStats"
   ]
  },
  {
   "cell_type": "code",
   "execution_count": null,
   "id": "959e7064-c9d6-4632-8bcd-cf6f49ec66fd",
   "metadata": {
    "tags": []
   },
   "outputs": [],
   "source": [
    "#|export\n",
    "class ActivationStats(HooksCB):\n",
    "    def __init__(self, mod_filter=fc.noop):\n",
    "        super().__init__(HistogramHook, mod_filter)\n",
    "    \n",
    "    def color_dim(self, figsize=(11,5)):\n",
    "        fig, axs = get_grid(len(self), figsize=figsize)\n",
    "        for ax, h in zip(axs.flat, self):\n",
    "            show_image(get_hist(h), ax, origin='lower')\n",
    "            \n",
    "    def dead_chart(self, figsize=(11,5)):\n",
    "        fig, axs = get_grid(len(self), figsize=figsize)\n",
    "        for ax, h in zip(axs.flat, self):\n",
    "            ax.plot(get_min(h))\n",
    "            ax.set_ylim(0,1)\n",
    "            \n",
    "    def plot_stats(self, figsize=(11,5)):\n",
    "        fig, axs = plt.subplots(1, 2, figsize=figsize)\n",
    "        for h in self:\n",
    "            for i in 0,1:\n",
    "                axs[i].plot(h.stats[i])\n",
    "                \n",
    "        axs[0].set_title('Means')\n",
    "        axs[1].set_title('Std Devs')\n",
    "        plt.legend(fc.L.range(self))\n",
    "        "
   ]
  },
  {
   "cell_type": "code",
   "execution_count": null,
   "id": "b0d65a81-e92e-41d2-ad4c-f1102359e087",
   "metadata": {
    "tags": []
   },
   "outputs": [],
   "source": [
    "astats = ActivationStats(fc.risinstance(nn.Conv2d))"
   ]
  },
  {
   "cell_type": "code",
   "execution_count": null,
   "id": "1efd90bb-c9dd-4bc3-b878-979cfd3c32d5",
   "metadata": {
    "tags": []
   },
   "outputs": [],
   "source": [
    "set_seed(1)\n",
    "model = nn.Sequential(*cnn_layers())\n",
    "fit(model, xtra_cbs=[astats])"
   ]
  },
  {
   "cell_type": "code",
   "execution_count": null,
   "id": "8e8756c6-2bb8-4b51-85a8-0fa8e3edbb7c",
   "metadata": {
    "tags": []
   },
   "outputs": [],
   "source": [
    "astats.color_dim()"
   ]
  },
  {
   "cell_type": "code",
   "execution_count": null,
   "id": "80436a1a-2252-4342-95f6-b32f72843050",
   "metadata": {
    "tags": []
   },
   "outputs": [],
   "source": [
    "astats.plot_stats()"
   ]
  },
  {
   "cell_type": "code",
   "execution_count": null,
   "id": "4e748b7c-fb82-4eca-8234-08801bb2c3ce",
   "metadata": {
    "tags": []
   },
   "outputs": [],
   "source": [
    "astats.dead_chart()"
   ]
  },
  {
   "cell_type": "markdown",
   "id": "55863757-e19b-4c8f-a0fe-8d3ec2862cee",
   "metadata": {},
   "source": [
    "## Export"
   ]
  },
  {
   "cell_type": "code",
   "execution_count": 3,
   "id": "7748a40b-16f2-4afc-90e9-e50a94e5a338",
   "metadata": {
    "tags": []
   },
   "outputs": [],
   "source": [
    "import nbdev; nbdev.nbdev_export()"
   ]
  },
  {
   "cell_type": "code",
   "execution_count": null,
   "id": "e29ce989-9c80-41c1-bb51-3db3c262595d",
   "metadata": {},
   "outputs": [],
   "source": []
  },
  {
   "cell_type": "code",
   "execution_count": null,
   "id": "7235e2d5-1cb7-4426-831c-c0d5fa9c299d",
   "metadata": {},
   "outputs": [],
   "source": []
  }
 ],
 "metadata": {
  "kernelspec": {
   "display_name": "Python 3 (ipykernel)",
   "language": "python",
   "name": "python3"
  },
  "language_info": {
   "codemirror_mode": {
    "name": "ipython",
    "version": 3
   },
   "file_extension": ".py",
   "mimetype": "text/x-python",
   "name": "python",
   "nbconvert_exporter": "python",
   "pygments_lexer": "ipython3",
   "version": "3.10.9"
  },
  "widgets": {
   "application/vnd.jupyter.widget-state+json": {
    "state": {},
    "version_major": 2,
    "version_minor": 0
   }
  }
 },
 "nbformat": 4,
 "nbformat_minor": 5
}
