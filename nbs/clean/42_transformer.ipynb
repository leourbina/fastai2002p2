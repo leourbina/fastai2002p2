{
 "cells": [
  {
   "cell_type": "code",
   "execution_count": 1,
   "id": "4e2780de-74d8-42c1-85cd-034a6e1da6ea",
   "metadata": {
    "tags": []
   },
   "outputs": [],
   "source": [
    "#|default_exp xformer"
   ]
  },
  {
   "cell_type": "markdown",
   "id": "87866773-6fbb-43d2-85d9-c010e9db5841",
   "metadata": {},
   "source": [
    "# Transformer"
   ]
  },
  {
   "cell_type": "code",
   "execution_count": 1,
   "id": "4a4c137d-61dd-429e-b9b9-d4dc710b6ac9",
   "metadata": {
    "tags": []
   },
   "outputs": [],
   "source": [
    "from dataclasses import dataclass\n",
    "import torch\n",
    "import matplotlib.pyplot as plt\n",
    "\n",
    "from torch import nn, optim, tensor\n",
    "import torch.nn.functional as F\n",
    "from torch.utils.data import Dataset, DataLoader\n",
    "import torchvision.transforms.functional as TF\n",
    "from functools import partial\n",
    "\n",
    "import fastcore.all as fc\n",
    "from torcheval.metrics import MulticlassAccuracy\n",
    "from datasets import load_dataset\n",
    "import tiktoken\n",
    "\n",
    "from miniai.datasets import * \n",
    "from miniai.activations import *\n",
    "from miniai.learner import *\n",
    "from miniai.conv import * \n",
    "from miniai.resnet import *\n",
    "from miniai.init import * \n",
    "from miniai.sgd import *\n",
    "from miniai.augment import * "
   ]
  },
  {
   "cell_type": "code",
   "execution_count": 2,
   "id": "485ab454-fd93-4244-9267-38136482f012",
   "metadata": {
    "tags": []
   },
   "outputs": [],
   "source": [
    "from IPython.core.debugger import set_trace\n",
    "%load_ext autoreload\n",
    "%autoreload 2"
   ]
  },
  {
   "cell_type": "code",
   "execution_count": 3,
   "id": "757ad2bc-630a-409f-b25d-7d6f1556a199",
   "metadata": {
    "tags": []
   },
   "outputs": [],
   "source": [
    "torch.set_printoptions(precision=2, linewidth=140, sci_mode=False)\n",
    "plt.style.use('fast')"
   ]
  },
  {
   "cell_type": "code",
   "execution_count": 4,
   "id": "77dcb20e-23e9-443e-8f07-c7cb437f0e4d",
   "metadata": {
    "tags": []
   },
   "outputs": [
    {
     "name": "stderr",
     "output_type": "stream",
     "text": [
      "Found cached dataset tiny_shakespeare (/home/leonardourbina/.cache/huggingface/datasets/tiny_shakespeare/default/1.0.0/b5b13969f09fe8707337f6cb296314fbe06960bd9a868dca39e713e163d27b5e)\n"
     ]
    },
    {
     "data": {
      "application/vnd.jupyter.widget-view+json": {
       "model_id": "dfc22033a99b4788a64c991426b2bb70",
       "version_major": 2,
       "version_minor": 0
      },
      "text/plain": [
       "  0%|          | 0/3 [00:00<?, ?it/s]"
      ]
     },
     "metadata": {},
     "output_type": "display_data"
    }
   ],
   "source": [
    "name = \"tiny_shakespeare\"\n",
    "dsd = load_dataset(name)"
   ]
  },
  {
   "cell_type": "code",
   "execution_count": 5,
   "id": "4991e528-204b-4d85-87ad-de2ba3205a85",
   "metadata": {
    "tags": []
   },
   "outputs": [
    {
     "data": {
      "text/plain": [
       "['gpt2', 'r50k_base', 'p50k_base', 'p50k_edit', 'cl100k_base']"
      ]
     },
     "execution_count": 5,
     "metadata": {},
     "output_type": "execute_result"
    }
   ],
   "source": [
    "tiktoken.list_encoding_names()"
   ]
  },
  {
   "cell_type": "code",
   "execution_count": 6,
   "id": "2471e723-bbc7-4986-b248-d0937824ac59",
   "metadata": {
    "tags": []
   },
   "outputs": [],
   "source": [
    "@dataclass\n",
    "class TConfig:\n",
    "    epochs = 1\n",
    "    lr = 5e-3\n",
    "    batch_size = 128\n",
    "    ctx_size = 100\n",
    "    num_workers = 24\n",
    "    n_embed = 1024\n",
    "    num_heads = 16\n",
    "    head_width = n_embed//num_heads\n",
    "    encoding = 'r50k_base'\n",
    "    bias = False \n",
    "    dropout = 0.2\n",
    "    fanout = 4 # MLP fanout\n",
    "    leak = 0.1\n",
    "    act = partial(GeneralReLU, leak=leak, sub=0.4)\n",
    "    depth = 4\n",
    "    max_norm = 1.\n",
    "    betas = (0.9, 0.95)"
   ]
  },
  {
   "cell_type": "code",
   "execution_count": 7,
   "id": "07664a35-76bd-48ce-968f-04b76b155360",
   "metadata": {
    "tags": []
   },
   "outputs": [],
   "source": [
    "def to_dict(conf):\n",
    "    result = {}\n",
    "    all_attrs = dir(conf)\n",
    "    for k in all_attrs:\n",
    "        if not k.startswith(\"_\"):\n",
    "            result[k] = getattr(conf, k)\n",
    "    return result"
   ]
  },
  {
   "cell_type": "code",
   "execution_count": 8,
   "id": "97f285e3-7577-494c-8f43-0b43f07b8278",
   "metadata": {
    "tags": []
   },
   "outputs": [],
   "source": [
    "class TextDataset(Dataset):\n",
    "    def __init__(self, text, encoder, config: TConfig, **kwargs): \n",
    "        self.n_vocab = encoder.n_vocab\n",
    "        self.text = tensor(encoder.encode_ordinary(text))\n",
    "        \n",
    "    def __getitem__(self, i): \n",
    "        return self.text[i:i+conf.ctx_size], self.text[i+1:i+conf.ctx_size+1]\n",
    "    \n",
    "    def __len__(self): return len(self.text) - conf.ctx_size - 1"
   ]
  },
  {
   "cell_type": "code",
   "execution_count": 9,
   "id": "83310dd6-5655-4fa1-bf9e-fa7834d0692d",
   "metadata": {
    "tags": []
   },
   "outputs": [],
   "source": [
    "gpt_conf = TConfig()\n",
    "conf = Config(\"tiny_shakespeare\", \"GPT\", save=True, **to_dict(gpt_conf))"
   ]
  },
  {
   "cell_type": "code",
   "execution_count": 10,
   "id": "1df0ba3a-e26c-4999-bc7e-397d8f4b07e3",
   "metadata": {
    "tags": []
   },
   "outputs": [],
   "source": [
    "enc = tiktoken.get_encoding(conf.encoding)\n",
    "train_ds = TextDataset(dsd['train']['text'][0], enc, conf)\n",
    "valid_ds = TextDataset(dsd['validation']['text'][0], enc, conf)\n",
    "\n",
    "train_dl = DataLoader(train_ds, batch_size=conf.batch_size, num_workers=conf.num_workers, shuffle=True)\n",
    "valid_dl = DataLoader(valid_ds, batch_size=conf.batch_size, num_workers=conf.num_workers)\n",
    "dls = DataLoaders(train_dl, valid_dl)"
   ]
  },
  {
   "cell_type": "code",
   "execution_count": 11,
   "id": "05002498-e182-4cf2-8cc6-dbd09d805883",
   "metadata": {
    "tags": []
   },
   "outputs": [
    {
     "data": {
      "text/plain": [
       "(torch.Size([128, 100]), torch.Size([128, 100]))"
      ]
     },
     "execution_count": 11,
     "metadata": {},
     "output_type": "execute_result"
    }
   ],
   "source": [
    "xb, yb = next(iter(dls.train))\n",
    "xb.shape, yb.shape"
   ]
  },
  {
   "cell_type": "code",
   "execution_count": 12,
   "id": "bdece58a-4868-484b-9bb5-9a2df74c06f0",
   "metadata": {
    "tags": []
   },
   "outputs": [],
   "source": [
    "class AttentionHead(nn.Module): # Decoder-only dot product attention\n",
    "    def __init__(self, config: TConfig):\n",
    "        super().__init__()\n",
    "        self.keys = nn.Linear(config.n_embed, config.head_width, bias=False)     # B, T, C -> B, T, H\n",
    "        self.queries = nn.Linear(config.n_embed, config.head_width, bias=False)  # B, T, C -> B, T, H\n",
    "        self.values = nn.Linear(config.n_embed, config.head_width, bias=False)   # B, T, C -> B, T, H\n",
    "        self.register_buffer('tril', torch.tril(torch.ones(config.ctx_size, config.ctx_size))) # T, T\n",
    "                \n",
    "    def forward(self, x):\n",
    "        keys = self.keys(x)\n",
    "        queries = self.queries(x)\n",
    "        values = self.values(x)\n",
    "         \n",
    "        B, T, C = keys.shape\n",
    "        cov = queries @ keys.transpose(-2, -1)*C**(-0.5) # (B, T, H) @ (B, C, H) -> (B, T, T) \n",
    "        cov.masked_fill_(self.tril == 0, -torch.inf)\n",
    "\n",
    "        return F.softmax(cov, dim=-1) @ values # (B, T, T) @ (B, T, H) -> (B, T, H)"
   ]
  },
  {
   "cell_type": "code",
   "execution_count": 13,
   "id": "a4890eef-dede-4570-b334-95673156f0ad",
   "metadata": {
    "tags": []
   },
   "outputs": [],
   "source": [
    "class MultiHeadAttention(nn.Module): \n",
    "    def __init__(self, config: TConfig):\n",
    "        super().__init__()\n",
    "        assert config.n_embed % config.num_heads == 0\n",
    "        self.heads = nn.ModuleList([AttentionHead(config) for _ in range(conf.num_heads)])\n",
    "        \n",
    "    def forward(self, x):\n",
    "        res = torch.cat([head(x) for head in self.heads], dim=-1)        \n",
    "        return res"
   ]
  },
  {
   "cell_type": "code",
   "execution_count": 14,
   "id": "596dd04c-ddc4-4f16-a374-d4e0eef2d454",
   "metadata": {
    "tags": []
   },
   "outputs": [],
   "source": [
    "class MLP(nn.Module):\n",
    "    def __init__(self, config: TConfig):\n",
    "        super().__init__()\n",
    "        self.lin1 = nn.Linear(config.n_embed, config.n_embed*config.fanout, bias=config.bias)\n",
    "        self.act = config.act()\n",
    "        self.lin2 = nn.Linear(config.n_embed*config.fanout, config.n_embed, bias=config.bias)\n",
    "        self.dropout = nn.Dropout(config.dropout)\n",
    "        \n",
    "    def forward(self, inp):\n",
    "        x = self.act(self.lin1(inp))\n",
    "        x = self.dropout(self.lin2(x))\n",
    "        return inp + x"
   ]
  },
  {
   "cell_type": "code",
   "execution_count": 15,
   "id": "a035d283-0f41-4090-8a43-b9c1697c89e7",
   "metadata": {
    "tags": []
   },
   "outputs": [],
   "source": [
    "class Block(nn.Module):\n",
    "    def __init__(self, config: TConfig):\n",
    "        super().__init__()\n",
    "        self.ln_1 = nn.LayerNorm(config.n_embed)\n",
    "        self.attn = MultiHeadAttention(config)\n",
    "        self.ln_2 = nn.LayerNorm(config.n_embed)\n",
    "        self.mlp = MLP(config)\n",
    "    \n",
    "    def forward(self, x): \n",
    "        x = x + self.attn(self.ln_1(x))\n",
    "        x = x + self.mlp(self.ln_2(x))\n",
    "        return x        "
   ]
  },
  {
   "cell_type": "code",
   "execution_count": 16,
   "id": "21248cc7-f89a-4356-bc95-bb22aa9f18b3",
   "metadata": {
    "tags": []
   },
   "outputs": [],
   "source": [
    "class GPT(nn.Module):\n",
    "    def __init__(self, vocab_size, config: TConfig):\n",
    "        super().__init__()\n",
    "        self.config = config\n",
    "        self.token_embedding = nn.Embedding(vocab_size, config.n_embed, device=device)         #  (B, T, C) token embedding\n",
    "        self.position_embedding = nn.Embedding(config.ctx_size, config.n_embed, device=device) #  positional embedding\n",
    "        self.blocks = nn.Sequential(*[Block(config) for _ in range(config.depth)])\n",
    "        self.ln = nn.LayerNorm(config.n_embed)\n",
    "        self.project = nn.Linear(config.n_embed, vocab_size)\n",
    "        \n",
    "        self.apply(self._init_weights)\n",
    "    \n",
    "    def _init_weights(self, module):\n",
    "        if isinstance(module, nn.Linear):\n",
    "            torch.nn.init.kaiming_normal_(module.weight, a=self.config.leak)\n",
    "            if module.bias is not None:\n",
    "                torch.nn.init.zeros_(module.bias)\n",
    "        elif isinstance(module, nn.Embedding):\n",
    "            torch.nn.init.normal_(module.weight, mean=0., std=0.02)\n",
    "        elif isinstance(module, nn.LayerNorm):\n",
    "            torch.nn.init.zeros_(module.bias)\n",
    "            torch.nn.init.ones_(module.weight)\n",
    "        \n",
    "    def forward(self, idx):\n",
    "        B, T = idx.shape\n",
    "        tok_emb = self.token_embedding(idx) # (B, T, C)\n",
    "        pos_emb = self.position_embedding(torch.arange(T, device=device)) # (T, C)\n",
    "        \n",
    "        x = self.blocks(tok_emb + pos_emb)\n",
    "        x = self.ln(x)\n",
    "        x = self.project(x)\n",
    "        return x"
   ]
  },
  {
   "cell_type": "code",
   "execution_count": 17,
   "id": "76aa3c7a-7ce5-4a63-b02f-b380250c4bba",
   "metadata": {
    "tags": []
   },
   "outputs": [],
   "source": [
    "class GPTLearner(Learner):\n",
    "    def predict(self):\n",
    "        preds = self.model(self.batch[0])\n",
    "        B, T, C = preds.shape\n",
    "        self.preds = preds.view(-1, C)\n",
    "        self.batch[1] = self.batch[1].view(-1)\n",
    "    \n",
    "    def step(self):\n",
    "        torch.nn.utils.clip_grad_norm_(self.model.parameters(), self.model.config.max_norm)\n",
    "        super().step()"
   ]
  },
  {
   "cell_type": "code",
   "execution_count": 18,
   "id": "f489878c-33fd-4fd5-815b-4a2bc4d5fb31",
   "metadata": {
    "tags": []
   },
   "outputs": [],
   "source": [
    "gpt = GPT(enc.n_vocab, gpt_conf).to(device)\n",
    "\n",
    "tmax = conf.epochs * len(dls.train)\n",
    "\n",
    "astats = ActivationStats(fc.risinstance(GeneralReLU))\n",
    "metrics = MetricsCB()\n",
    "sched = BatchSchedCB(partial(optim.lr_scheduler.OneCycleLR, max_lr=conf.lr, total_steps=tmax))\n",
    "wand = WandBCB(conf, project=\"GPT\")\n",
    "cbs = [metrics, wand, sched, ProgressCB(plot=True)]\n",
    "\n",
    "learn = GPTLearner(gpt, dls, F.cross_entropy, cbs=DeviceCB(device=device), opt_func=partial(optim.AdamW, betas=conf.betas))"
   ]
  },
  {
   "cell_type": "code",
   "execution_count": 19,
   "id": "5e067bf9-f428-47c6-8d5b-b2718fdee4c8",
   "metadata": {
    "tags": []
   },
   "outputs": [
    {
     "name": "stdout",
     "output_type": "stream",
     "text": [
      "Total params: 149234769 - Mflops: 149.2\n"
     ]
    },
    {
     "data": {
      "text/markdown": [
       "|Module|Input|Output|Num params|MFlops|\n",
       "|--|--|--|--|--|\n",
       "|Embedding|(128, 100)|(128, 100, 1024)|51463168|51.5|\n",
       "|Embedding|(100,)|(100, 1024)|102400|0.1|\n",
       "|LayerNorm|(128, 100, 1024)|(128, 100, 1024)|2048|0.0|\n",
       "|MultiHeadAttention|(128, 100, 1024)|(128, 100, 1024)|3145728|3.1|\n",
       "|LayerNorm|(128, 100, 1024)|(128, 100, 1024)|2048|0.0|\n",
       "|Linear|(128, 100, 1024)|(128, 100, 4096)|4194304|4.2|\n",
       "|GeneralReLU|(128, 100, 4096)|(128, 100, 4096)|0|0.0|\n",
       "|Linear|(128, 100, 4096)|(128, 100, 1024)|4194304|4.2|\n",
       "|Dropout|(128, 100, 1024)|(128, 100, 1024)|0|0.0|\n",
       "|LayerNorm|(128, 100, 1024)|(128, 100, 1024)|2048|0.0|\n",
       "|MultiHeadAttention|(128, 100, 1024)|(128, 100, 1024)|3145728|3.1|\n",
       "|LayerNorm|(128, 100, 1024)|(128, 100, 1024)|2048|0.0|\n",
       "|Linear|(128, 100, 1024)|(128, 100, 4096)|4194304|4.2|\n",
       "|GeneralReLU|(128, 100, 4096)|(128, 100, 4096)|0|0.0|\n",
       "|Linear|(128, 100, 4096)|(128, 100, 1024)|4194304|4.2|\n",
       "|Dropout|(128, 100, 1024)|(128, 100, 1024)|0|0.0|\n",
       "|LayerNorm|(128, 100, 1024)|(128, 100, 1024)|2048|0.0|\n",
       "|MultiHeadAttention|(128, 100, 1024)|(128, 100, 1024)|3145728|3.1|\n",
       "|LayerNorm|(128, 100, 1024)|(128, 100, 1024)|2048|0.0|\n",
       "|Linear|(128, 100, 1024)|(128, 100, 4096)|4194304|4.2|\n",
       "|GeneralReLU|(128, 100, 4096)|(128, 100, 4096)|0|0.0|\n",
       "|Linear|(128, 100, 4096)|(128, 100, 1024)|4194304|4.2|\n",
       "|Dropout|(128, 100, 1024)|(128, 100, 1024)|0|0.0|\n",
       "|LayerNorm|(128, 100, 1024)|(128, 100, 1024)|2048|0.0|\n",
       "|MultiHeadAttention|(128, 100, 1024)|(128, 100, 1024)|3145728|3.1|\n",
       "|LayerNorm|(128, 100, 1024)|(128, 100, 1024)|2048|0.0|\n",
       "|Linear|(128, 100, 1024)|(128, 100, 4096)|4194304|4.2|\n",
       "|GeneralReLU|(128, 100, 4096)|(128, 100, 4096)|0|0.0|\n",
       "|Linear|(128, 100, 4096)|(128, 100, 1024)|4194304|4.2|\n",
       "|Dropout|(128, 100, 1024)|(128, 100, 1024)|0|0.0|\n",
       "|LayerNorm|(128, 100, 1024)|(128, 100, 1024)|2048|0.0|\n",
       "|Linear|(128, 100, 1024)|(128, 100, 50257)|51513425|51.5|\n"
      ],
      "text/plain": [
       "<IPython.core.display.Markdown object>"
      ]
     },
     "execution_count": 19,
     "metadata": {},
     "output_type": "execute_result"
    }
   ],
   "source": [
    "learn.summary(fc.risinstance(MultiHeadAttention))"
   ]
  },
  {
   "cell_type": "code",
   "execution_count": 21,
   "id": "3e3f5d72-45fc-4633-b7d9-d4290ba30e6a",
   "metadata": {
    "tags": []
   },
   "outputs": [
    {
     "name": "stderr",
     "output_type": "stream",
     "text": [
      "Failed to detect the name of this notebook, you can set it manually with the WANDB_NOTEBOOK_NAME environment variable to enable code saving.\n",
      "\u001b[34m\u001b[1mwandb\u001b[0m: Logging into wandb.ai. (Learn how to deploy a W&B server locally: https://wandb.me/wandb-server)\n",
      "\u001b[34m\u001b[1mwandb\u001b[0m: You can find your API key in your browser here: https://wandb.ai/authorize\n",
      "\u001b[34m\u001b[1mwandb\u001b[0m: Paste an API key from your profile and hit enter, or press ctrl+c to quit:"
     ]
    },
    {
     "name": "stdin",
     "output_type": "stream",
     "text": [
      "  ········\n"
     ]
    },
    {
     "name": "stderr",
     "output_type": "stream",
     "text": [
      "\u001b[34m\u001b[1mwandb\u001b[0m: Appending key for api.wandb.ai to your netrc file: /home/leonardourbina/.netrc\n"
     ]
    },
    {
     "data": {
      "text/html": [
       "wandb version 0.15.0 is available!  To upgrade, please run:\n",
       " $ pip install wandb --upgrade"
      ],
      "text/plain": [
       "<IPython.core.display.HTML object>"
      ]
     },
     "metadata": {},
     "output_type": "display_data"
    },
    {
     "data": {
      "text/html": [
       "Tracking run with wandb version 0.14.0"
      ],
      "text/plain": [
       "<IPython.core.display.HTML object>"
      ]
     },
     "metadata": {},
     "output_type": "display_data"
    },
    {
     "data": {
      "text/html": [
       "Run data is saved locally in <code>/home/leonardourbina/code/fastai2022p2/nbs/clean/wandb/run-20230428_221241-wwxig7if</code>"
      ],
      "text/plain": [
       "<IPython.core.display.HTML object>"
      ]
     },
     "metadata": {},
     "output_type": "display_data"
    },
    {
     "data": {
      "text/html": [
       "Syncing run <strong><a href='https://wandb.ai/leourbina/GPT/runs/wwxig7if' target=\"_blank\">glorious-pyramid-62</a></strong> to <a href='https://wandb.ai/leourbina/GPT' target=\"_blank\">Weights & Biases</a> (<a href='https://wandb.me/run' target=\"_blank\">docs</a>)<br/>"
      ],
      "text/plain": [
       "<IPython.core.display.HTML object>"
      ]
     },
     "metadata": {},
     "output_type": "display_data"
    },
    {
     "data": {
      "text/html": [
       " View project at <a href='https://wandb.ai/leourbina/GPT' target=\"_blank\">https://wandb.ai/leourbina/GPT</a>"
      ],
      "text/plain": [
       "<IPython.core.display.HTML object>"
      ]
     },
     "metadata": {},
     "output_type": "display_data"
    },
    {
     "data": {
      "text/html": [
       " View run at <a href='https://wandb.ai/leourbina/GPT/runs/wwxig7if' target=\"_blank\">https://wandb.ai/leourbina/GPT/runs/wwxig7if</a>"
      ],
      "text/plain": [
       "<IPython.core.display.HTML object>"
      ]
     },
     "metadata": {},
     "output_type": "display_data"
    },
    {
     "data": {
      "text/html": [
       "\n",
       "<style>\n",
       "    /* Turns off some styling */\n",
       "    progress {\n",
       "        /* gets rid of default border in Firefox and Opera. */\n",
       "        border: none;\n",
       "        /* Needs to be in here for Safari polyfill so background images work as expected. */\n",
       "        background-size: auto;\n",
       "    }\n",
       "    progress:not([value]), progress:not([value])::-webkit-progress-bar {\n",
       "        background: repeating-linear-gradient(45deg, #7e7e7e, #7e7e7e 10px, #5c5c5c 10px, #5c5c5c 20px);\n",
       "    }\n",
       "    .progress-bar-interrupted, .progress-bar-interrupted::-webkit-progress-bar {\n",
       "        background: #F44336;\n",
       "    }\n",
       "</style>\n"
      ],
      "text/plain": [
       "<IPython.core.display.HTML object>"
      ]
     },
     "metadata": {},
     "output_type": "display_data"
    },
    {
     "data": {
      "text/html": [
       "\n",
       "    <div>\n",
       "      <progress value='0' class='' max='1' style='width:300px; height:20px; vertical-align: middle;'></progress>\n",
       "      0.00% [0/1 00:00&lt;?]\n",
       "    </div>\n",
       "    \n",
       "\n",
       "\n",
       "    <div>\n",
       "      <progress value='582' class='' max='2359' style='width:300px; height:20px; vertical-align: middle;'></progress>\n",
       "      24.67% [582/2359 05:31&lt;16:52 1.463]\n",
       "    </div>\n",
       "    "
      ],
      "text/plain": [
       "<IPython.core.display.HTML object>"
      ]
     },
     "metadata": {},
     "output_type": "display_data"
    },
    {
     "data": {
      "image/png": "[encoded data removed]",
      "text/plain": [
       "<Figure size 600x400 with 1 Axes>"
      ]
     },
     "metadata": {},
     "output_type": "display_data"
    },
    {
     "name": "stderr",
     "output_type": "stream",
     "text": [
      "\n",
      "KeyboardInterrupt\n",
      "\n"
     ]
    },
    {
     "data": {
      "image/png": "[encoded data removed]",
      "text/plain": [
       "<Figure size 600x400 with 1 Axes>"
      ]
     },
     "metadata": {},
     "output_type": "display_data"
    }
   ],
   "source": [
    "learn.fit(conf.epochs, cbs=cbs)"
   ]
  },
  {
   "cell_type": "code",
   "execution_count": 22,
   "id": "f6af5c1c-c923-4978-b37f-cf26ea9096dc",
   "metadata": {
    "tags": []
   },
   "outputs": [
    {
     "ename": "UnpicklingError",
     "evalue": "invalid load key, 'v'.",
     "output_type": "error",
     "traceback": [
      "\u001b[0;31m---------------------------------------------------------------------------\u001b[0m",
      "\u001b[0;31mUnpicklingError\u001b[0m                           Traceback (most recent call last)",
      "Cell \u001b[0;32mIn[22], line 1\u001b[0m\n\u001b[0;32m----> 1\u001b[0m model \u001b[38;5;241m=\u001b[39m \u001b[43mtorch\u001b[49m\u001b[38;5;241;43m.\u001b[39;49m\u001b[43mload\u001b[49m\u001b[43m(\u001b[49m\u001b[38;5;124;43m\"\u001b[39;49m\u001b[38;5;124;43m./models/GPT/glad-frost-51.pkl\u001b[39;49m\u001b[38;5;124;43m\"\u001b[39;49m\u001b[43m)\u001b[49m\n",
      "File \u001b[0;32m~/mambaforge/envs/fastai/lib/python3.8/site-packages/torch/serialization.py:795\u001b[0m, in \u001b[0;36mload\u001b[0;34m(f, map_location, pickle_module, weights_only, **pickle_load_args)\u001b[0m\n\u001b[1;32m    793\u001b[0m     \u001b[38;5;28;01mexcept\u001b[39;00m \u001b[38;5;167;01mRuntimeError\u001b[39;00m \u001b[38;5;28;01mas\u001b[39;00m e:\n\u001b[1;32m    794\u001b[0m         \u001b[38;5;28;01mraise\u001b[39;00m pickle\u001b[38;5;241m.\u001b[39mUnpicklingError(UNSAFE_MESSAGE \u001b[38;5;241m+\u001b[39m \u001b[38;5;28mstr\u001b[39m(e)) \u001b[38;5;28;01mfrom\u001b[39;00m \u001b[38;5;28mNone\u001b[39m\n\u001b[0;32m--> 795\u001b[0m \u001b[38;5;28;01mreturn\u001b[39;00m \u001b[43m_legacy_load\u001b[49m\u001b[43m(\u001b[49m\u001b[43mopened_file\u001b[49m\u001b[43m,\u001b[49m\u001b[43m \u001b[49m\u001b[43mmap_location\u001b[49m\u001b[43m,\u001b[49m\u001b[43m \u001b[49m\u001b[43mpickle_module\u001b[49m\u001b[43m,\u001b[49m\u001b[43m \u001b[49m\u001b[38;5;241;43m*\u001b[39;49m\u001b[38;5;241;43m*\u001b[39;49m\u001b[43mpickle_load_args\u001b[49m\u001b[43m)\u001b[49m\n",
      "File \u001b[0;32m~/mambaforge/envs/fastai/lib/python3.8/site-packages/torch/serialization.py:1002\u001b[0m, in \u001b[0;36m_legacy_load\u001b[0;34m(f, map_location, pickle_module, **pickle_load_args)\u001b[0m\n\u001b[1;32m    996\u001b[0m \u001b[38;5;28;01mif\u001b[39;00m \u001b[38;5;129;01mnot\u001b[39;00m \u001b[38;5;28mhasattr\u001b[39m(f, \u001b[38;5;124m'\u001b[39m\u001b[38;5;124mreadinto\u001b[39m\u001b[38;5;124m'\u001b[39m) \u001b[38;5;129;01mand\u001b[39;00m (\u001b[38;5;241m3\u001b[39m, \u001b[38;5;241m8\u001b[39m, \u001b[38;5;241m0\u001b[39m) \u001b[38;5;241m<\u001b[39m\u001b[38;5;241m=\u001b[39m sys\u001b[38;5;241m.\u001b[39mversion_info \u001b[38;5;241m<\u001b[39m (\u001b[38;5;241m3\u001b[39m, \u001b[38;5;241m8\u001b[39m, \u001b[38;5;241m2\u001b[39m):\n\u001b[1;32m    997\u001b[0m     \u001b[38;5;28;01mraise\u001b[39;00m \u001b[38;5;167;01mRuntimeError\u001b[39;00m(\n\u001b[1;32m    998\u001b[0m         \u001b[38;5;124m\"\u001b[39m\u001b[38;5;124mtorch.load does not work with file-like objects that do not implement readinto on Python 3.8.0 and 3.8.1. \u001b[39m\u001b[38;5;124m\"\u001b[39m\n\u001b[1;32m    999\u001b[0m         \u001b[38;5;124mf\u001b[39m\u001b[38;5;124m\"\u001b[39m\u001b[38;5;124mReceived object of type \u001b[39m\u001b[38;5;130;01m\\\"\u001b[39;00m\u001b[38;5;132;01m{\u001b[39;00m\u001b[38;5;28mtype\u001b[39m(f)\u001b[38;5;132;01m}\u001b[39;00m\u001b[38;5;130;01m\\\"\u001b[39;00m\u001b[38;5;124m. Please update to Python 3.8.2 or newer to restore this \u001b[39m\u001b[38;5;124m\"\u001b[39m\n\u001b[1;32m   1000\u001b[0m         \u001b[38;5;124m\"\u001b[39m\u001b[38;5;124mfunctionality.\u001b[39m\u001b[38;5;124m\"\u001b[39m)\n\u001b[0;32m-> 1002\u001b[0m magic_number \u001b[38;5;241m=\u001b[39m \u001b[43mpickle_module\u001b[49m\u001b[38;5;241;43m.\u001b[39;49m\u001b[43mload\u001b[49m\u001b[43m(\u001b[49m\u001b[43mf\u001b[49m\u001b[43m,\u001b[49m\u001b[43m \u001b[49m\u001b[38;5;241;43m*\u001b[39;49m\u001b[38;5;241;43m*\u001b[39;49m\u001b[43mpickle_load_args\u001b[49m\u001b[43m)\u001b[49m\n\u001b[1;32m   1003\u001b[0m \u001b[38;5;28;01mif\u001b[39;00m magic_number \u001b[38;5;241m!=\u001b[39m MAGIC_NUMBER:\n\u001b[1;32m   1004\u001b[0m     \u001b[38;5;28;01mraise\u001b[39;00m \u001b[38;5;167;01mRuntimeError\u001b[39;00m(\u001b[38;5;124m\"\u001b[39m\u001b[38;5;124mInvalid magic number; corrupt file?\u001b[39m\u001b[38;5;124m\"\u001b[39m)\n",
      "\u001b[0;31mUnpicklingError\u001b[0m: invalid load key, 'v'."
     ]
    }
   ],
   "source": [
    "model = torch.load(\"./models/GPT/glad-frost-51.pkl\")"
   ]
  },
  {
   "cell_type": "code",
   "execution_count": 57,
   "id": "163d4f9a-5bd7-401d-98c7-84456699c0ef",
   "metadata": {},
   "outputs": [],
   "source": [
    "learn2 = GPTLearner(model, dls, F.cross_entropy, cbs=[DeviceCB(), MetricsCB(accuracy=MulticlassAccuracy()), ProgressCB(plot=True)])"
   ]
  },
  {
   "cell_type": "code",
   "execution_count": 58,
   "id": "e7e08748-8827-4241-a68a-88c1d46dad08",
   "metadata": {
    "tags": []
   },
   "outputs": [
    {
     "data": {
      "text/html": [
       "\n",
       "<style>\n",
       "    /* Turns off some styling */\n",
       "    progress {\n",
       "        /* gets rid of default border in Firefox and Opera. */\n",
       "        border: none;\n",
       "        /* Needs to be in here for Safari polyfill so background images work as expected. */\n",
       "        background-size: auto;\n",
       "    }\n",
       "    progress:not([value]), progress:not([value])::-webkit-progress-bar {\n",
       "        background: repeating-linear-gradient(45deg, #7e7e7e, #7e7e7e 10px, #5c5c5c 10px, #5c5c5c 20px);\n",
       "    }\n",
       "    .progress-bar-interrupted, .progress-bar-interrupted::-webkit-progress-bar {\n",
       "        background: #F44336;\n",
       "    }\n",
       "</style>\n"
      ],
      "text/plain": [
       "<IPython.core.display.HTML object>"
      ]
     },
     "metadata": {},
     "output_type": "display_data"
    },
    {
     "data": {
      "text/html": [
       "<table border=\"1\" class=\"dataframe\">\n",
       "  <thead>\n",
       "    <tr style=\"text-align: left;\">\n",
       "      <th>accuracy</th>\n",
       "      <th>loss</th>\n",
       "      <th>epoch</th>\n",
       "      <th>train</th>\n",
       "    </tr>\n",
       "  </thead>\n",
       "  <tbody>\n",
       "    <tr>\n",
       "      <td>0.264</td>\n",
       "      <td>10.585</td>\n",
       "      <td>0</td>\n",
       "      <td>valid</td>\n",
       "    </tr>\n",
       "  </tbody>\n",
       "</table>"
      ],
      "text/plain": [
       "<IPython.core.display.HTML object>"
      ]
     },
     "metadata": {},
     "output_type": "display_data"
    }
   ],
   "source": [
    "learn2.fit(1, train=False, valid=True)"
   ]
  },
  {
   "cell_type": "code",
   "execution_count": null,
   "id": "427d23f1-b85f-4f6b-97bb-20afb0c6ffea",
   "metadata": {},
   "outputs": [],
   "source": []
  }
 ],
 "metadata": {
  "kernelspec": {
   "display_name": "Python 3 (ipykernel)",
   "language": "python",
   "name": "python3"
  },
  "language_info": {
   "codemirror_mode": {
    "name": "ipython",
    "version": 3
   },
   "file_extension": ".py",
   "mimetype": "text/x-python",
   "name": "python",
   "nbconvert_exporter": "python",
   "pygments_lexer": "ipython3",
   "version": "3.8.16"
  }
 },
 "nbformat": 4,
 "nbformat_minor": 5
}
