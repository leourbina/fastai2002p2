{
 "cells": [
  {
   "cell_type": "markdown",
   "id": "1d2457fc-4583-4d32-8718-2e159863b5ae",
   "metadata": {},
   "source": [
    "# Mastermind"
   ]
  },
  {
   "cell_type": "code",
   "execution_count": 23,
   "id": "1aff3683-1247-4613-863e-a9f25e414dbe",
   "metadata": {},
   "outputs": [],
   "source": [
    "import random\n",
    "colors = ['R', 'G', 'P', 'B', 'O', 'Y']\n",
    "code_length = 4\n",
    "num_guesses = 10"
   ]
  },
  {
   "cell_type": "code",
   "execution_count": 25,
   "id": "84c3a296-0401-4c5a-b02a-4140901b9272",
   "metadata": {},
   "outputs": [],
   "source": [
    "def get_secret(code_length):\n",
    "    idxs = [random.randint(0, len(colors)-1) for _ in range(code_length)]\n",
    "    return [colors[idx] for idx in idxs]"
   ]
  },
  {
   "cell_type": "code",
   "execution_count": 9,
   "id": "bdcf9b44-82b1-4046-9bf0-fd529cdf0e71",
   "metadata": {},
   "outputs": [],
   "source": [
    "secret = get_code(code_length)"
   ]
  },
  {
   "cell_type": "code",
   "execution_count": 10,
   "id": "b194fe2a-cd90-42aa-8a2e-6400aa929eb9",
   "metadata": {},
   "outputs": [
    {
     "data": {
      "text/plain": [
       "['O', 'G', 'P', 'R']"
      ]
     },
     "execution_count": 10,
     "metadata": {},
     "output_type": "execute_result"
    }
   ],
   "source": [
    "secret"
   ]
  },
  {
   "cell_type": "code",
   "execution_count": 11,
   "id": "18833796-c19a-41f8-a405-e20a0658b65d",
   "metadata": {},
   "outputs": [],
   "source": [
    "def get_guess():\n",
    "    guess = input(\"Insert guess\")\n",
    "    return list(guess)[:code_length]"
   ]
  },
  {
   "cell_type": "code",
   "execution_count": 12,
   "id": "eaa32205-c6a2-49e2-97af-dae9c04ac86a",
   "metadata": {},
   "outputs": [],
   "source": [
    "def get_exact(guess, secret):\n",
    "    return sum([guess[i]==secret[i] for i in range(code_length)])    "
   ]
  },
  {
   "cell_type": "code",
   "execution_count": 13,
   "id": "60e58de9-577c-43d5-9197-98f908853a05",
   "metadata": {},
   "outputs": [],
   "source": [
    "def make_set(code):\n",
    "    result = {}\n",
    "    for k in code:\n",
    "        if k not in result:\n",
    "            result[k] = 0\n",
    "        result[k] += 1\n",
    "    return result"
   ]
  },
  {
   "cell_type": "code",
   "execution_count": 14,
   "id": "cccc9098-0b81-42c7-8c45-088111a37239",
   "metadata": {},
   "outputs": [],
   "source": [
    "from IPython.core.debugger import set_trace"
   ]
  },
  {
   "cell_type": "code",
   "execution_count": 16,
   "id": "287ca3d2-120f-4df6-90d9-b7e34e4421cb",
   "metadata": {},
   "outputs": [],
   "source": [
    "def get_partial(guess, secret):\n",
    "    \n",
    "    guess_set = make_set(guess)\n",
    "    secret_set = make_set(secret)\n",
    "    matches = 0\n",
    "    exact = get_exact(guess, secret)\n",
    "    \n",
    "    for k in guess_set.keys():\n",
    "        matches += min(secret_set.get(k, 0), guess_set[k])\n",
    "        \n",
    "    return matches - exact"
   ]
  },
  {
   "cell_type": "code",
   "execution_count": 22,
   "id": "7566cc0d-0a00-49cf-8609-74c83a219f61",
   "metadata": {},
   "outputs": [
    {
     "data": {
      "text/plain": [
       "(1, 1)"
      ]
     },
     "execution_count": 22,
     "metadata": {},
     "output_type": "execute_result"
    }
   ],
   "source": [
    "guess = ['P', 'R', 'P', 'B']\n",
    "get_partial(guess, secret), get_exact(guess, secret)"
   ]
  },
  {
   "cell_type": "code",
   "execution_count": 24,
   "id": "8f5f67d5-c346-4278-b5d7-bba4cfd6861b",
   "metadata": {},
   "outputs": [],
   "source": [
    "def get_score(guess, secret):\n",
    "    return get_exact(guess, secret), get_partial(guess, secret)"
   ]
  },
  {
   "cell_type": "code",
   "execution_count": 41,
   "id": "af1a2447-2be6-48cc-8195-5d2b52256478",
   "metadata": {},
   "outputs": [],
   "source": [
    "def game_loop():\n",
    "    exact, partial = (0, 0)\n",
    "    guess_idx = 0\n",
    "    secret = get_secret(code_length)\n",
    "\n",
    "    while exact != code_length and guess_idx < num_guesses:\n",
    "        guess = get_guess()\n",
    "        exact, partial = get_score(guess, secret)\n",
    "        guess_idx += 1        \n",
    "        print(f\"{guess}, Exact: {exact}, Partial: {partial} - {num_guesses - guess_idx} guesses left\")\n",
    "\n",
    "    if exact == code_length:\n",
    "        print(\"You won 🎉\")\n",
    "    else:    \n",
    "        print(f\"Sad trombone - the secret was {secret}\")    "
   ]
  },
  {
   "cell_type": "code",
   "execution_count": 46,
   "id": "ac113a5f-11de-45c5-8192-c888510e089f",
   "metadata": {},
   "outputs": [
    {
     "name": "stdin",
     "output_type": "stream",
     "text": [
      "Insert guess ROYG\n"
     ]
    },
    {
     "name": "stdout",
     "output_type": "stream",
     "text": [
      "['R', 'O', 'Y', 'G'], Exact: 0, Partial: 1 - 9 guesses left\n"
     ]
    },
    {
     "name": "stdin",
     "output_type": "stream",
     "text": [
      "Insert guess PBRO\n"
     ]
    },
    {
     "name": "stdout",
     "output_type": "stream",
     "text": [
      "['P', 'B', 'R', 'O'], Exact: 1, Partial: 0 - 8 guesses left\n"
     ]
    },
    {
     "name": "stdin",
     "output_type": "stream",
     "text": [
      "Insert guess PBBP\n"
     ]
    },
    {
     "name": "stdout",
     "output_type": "stream",
     "text": [
      "['P', 'B', 'B', 'P'], Exact: 1, Partial: 1 - 7 guesses left\n"
     ]
    },
    {
     "name": "stdin",
     "output_type": "stream",
     "text": [
      "Insert guess BPPB\n"
     ]
    },
    {
     "name": "stdout",
     "output_type": "stream",
     "text": [
      "['B', 'P', 'P', 'B'], Exact: 2, Partial: 0 - 6 guesses left\n"
     ]
    },
    {
     "name": "stdin",
     "output_type": "stream",
     "text": [
      "Insert guess PPPP\n"
     ]
    },
    {
     "name": "stdout",
     "output_type": "stream",
     "text": [
      "['P', 'P', 'P', 'P'], Exact: 3, Partial: 0 - 5 guesses left\n"
     ]
    },
    {
     "name": "stdin",
     "output_type": "stream",
     "text": [
      "Insert guess PPPR\n"
     ]
    },
    {
     "name": "stdout",
     "output_type": "stream",
     "text": [
      "['P', 'P', 'P', 'R'], Exact: 3, Partial: 0 - 4 guesses left\n"
     ]
    },
    {
     "name": "stdin",
     "output_type": "stream",
     "text": [
      "Insert guess PPPY\n"
     ]
    },
    {
     "name": "stdout",
     "output_type": "stream",
     "text": [
      "['P', 'P', 'P', 'Y'], Exact: 4, Partial: 0 - 3 guesses left\n",
      "You won 🎉\n"
     ]
    }
   ],
   "source": [
    "game_loop()"
   ]
  },
  {
   "cell_type": "code",
   "execution_count": null,
   "id": "57ab1238-9846-415d-b3f4-640898fe8b8f",
   "metadata": {},
   "outputs": [],
   "source": []
  }
 ],
 "metadata": {
  "kernelspec": {
   "display_name": "Python 3 (ipykernel)",
   "language": "python",
   "name": "python3"
  },
  "language_info": {
   "codemirror_mode": {
    "name": "ipython",
    "version": 3
   },
   "file_extension": ".py",
   "mimetype": "text/x-python",
   "name": "python",
   "nbconvert_exporter": "python",
   "pygments_lexer": "ipython3",
   "version": "3.8.16"
  }
 },
 "nbformat": 4,
 "nbformat_minor": 5
}
