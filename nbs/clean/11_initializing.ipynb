{
 "cells": [
  {
   "cell_type": "code",
   "execution_count": 1,
   "id": "ac478c3b-cd3b-4c51-abbf-4a0a63b4a1f6",
   "metadata": {
    "tags": []
   },
   "outputs": [],
   "source": [
    "#|default_exp init"
   ]
  },
  {
   "cell_type": "markdown",
   "id": "6359a2b9-5375-426e-a55d-80f0d2a38d19",
   "metadata": {},
   "source": [
    "# Initialization"
   ]
  },
  {
   "cell_type": "code",
   "execution_count": 8,
   "id": "61c411bb-8cba-42d9-9ed3-19425cda6068",
   "metadata": {
    "tags": []
   },
   "outputs": [],
   "source": [
    "#|export\n",
    "import pickle\n",
    "import gzip\n",
    "import math\n",
    "import sys\n",
    "import gc\n",
    "import os\n",
    "import time\n",
    "import traceback\n",
    "import shutil\n",
    "import torch\n",
    "import matplotlib.pyplot as plt\n",
    "import numpy as np\n",
    "from collections.abc import Mapping\n",
    "from pathlib import Path\n",
    "from operator import attrgetter, itemgetter\n",
    "from functools import partial\n",
    "from copy import copy\n",
    "\n",
    "from torch import nn\n",
    "import torchvision.transforms.functional as TF\n",
    "from torch import nn, tensor, optim\n",
    "import torch.nn.functional as F\n",
    "from torch.utils.data import DataLoader, default_collate\n",
    "from torch.nn import init\n",
    "from torcheval.metrics import MulticlassAccuracy\n",
    "from datasets import load_dataset, load_dataset_builder\n",
    "\n",
    "from miniai.datasets import * \n",
    "from miniai.conv import * \n",
    "from miniai.learner import * \n",
    "from miniai.activations import * "
   ]
  },
  {
   "cell_type": "code",
   "execution_count": 9,
   "id": "41b4fce3-5fc2-4d60-85ca-a41fdc52b69f",
   "metadata": {
    "tags": []
   },
   "outputs": [],
   "source": [
    "from fastcore.test import test_close\n",
    "plt.style.use('fast')\n",
    "torch.set_printoptions(precision=2, linewidth=140, sci_mode=False)\n",
    "\n",
    "import logging; logging.disable(logging.WARNING)\n",
    "set_seed(42)"
   ]
  },
  {
   "cell_type": "code",
   "execution_count": 10,
   "id": "9e0d656a-f483-4fe5-9fb4-692dc8094bbe",
   "metadata": {
    "tags": []
   },
   "outputs": [
    {
     "data": {
      "application/vnd.jupyter.widget-view+json": {
       "model_id": "d407c5f8a0364fd98195427461991493",
       "version_major": 2,
       "version_minor": 0
      },
      "text/plain": [
       "  0%|          | 0/2 [00:00<?, ?it/s]"
      ]
     },
     "metadata": {},
     "output_type": "display_data"
    }
   ],
   "source": [
    "xl, yl = 'image', 'label'\n",
    "name = \"fashion_mnist\"\n",
    "dsd = load_dataset(name)\n",
    "\n",
    "@inplace\n",
    "def transformi(b): b[xl] = [TF.to_tensor(o) for o in b[xl]]"
   ]
  },
  {
   "cell_type": "code",
   "execution_count": 11,
   "id": "a8e43b14-e4d5-4247-b98c-61c0c7101cc3",
   "metadata": {
    "tags": []
   },
   "outputs": [],
   "source": [
    "bs = 1024\n",
    "tds = dsd.with_transform(transformi)\n",
    "dls = DataLoaders.from_dd(tds, bs, num_workers=4)"
   ]
  },
  {
   "cell_type": "code",
   "execution_count": 12,
   "id": "9aba4861-0a63-467f-920f-a9da3bbb934f",
   "metadata": {
    "tags": []
   },
   "outputs": [
    {
     "data": {
      "text/plain": [
       "(torch.Size([1024, 1, 28, 28]), tensor([5, 7, 4, 7, 3, 8, 9, 5, 3, 1]))"
      ]
     },
     "execution_count": 12,
     "metadata": {},
     "output_type": "execute_result"
    }
   ],
   "source": [
    "dt = dls.train\n",
    "xb, yb = next(iter(dt))\n",
    "xb.shape, yb[:10]"
   ]
  },
  {
   "cell_type": "code",
   "execution_count": 14,
   "id": "45e61b63-7501-4b24-a62f-3a8e4b424d06",
   "metadata": {
    "tags": []
   },
   "outputs": [],
   "source": [
    "def get_model():\n",
    "    return nn.Sequential(\n",
    "        conv(1, 8), conv(8, 16), conv(16, 32), \n",
    "        conv(32, 64), conv(64,10, act=False)).to(device)"
   ]
  },
  {
   "cell_type": "code",
   "execution_count": null,
   "id": "c9e4966d-6f5a-4ba0-8439-facd616b51cf",
   "metadata": {},
   "outputs": [],
   "source": [
    "learn = MomentumLearner(get_model(), dls, F.cross_entropy, cbs=[DeviceCB()])"
   ]
  }
 ],
 "metadata": {
  "kernelspec": {
   "display_name": "Python 3 (ipykernel)",
   "language": "python",
   "name": "python3"
  },
  "language_info": {
   "codemirror_mode": {
    "name": "ipython",
    "version": 3
   },
   "file_extension": ".py",
   "mimetype": "text/x-python",
   "name": "python",
   "nbconvert_exporter": "python",
   "pygments_lexer": "ipython3",
   "version": "3.10.9"
  },
  "widgets": {
   "application/vnd.jupyter.widget-state+json": {
    "state": {
     "1a2fd2a7cf054dada0d5165350bf55ef": {
      "model_module": "@jupyter-widgets/controls",
      "model_module_version": "2.0.0",
      "model_name": "ProgressStyleModel",
      "state": {
       "description_width": ""
      }
     },
     "1c7498af604c4fbba5814580ed50fd23": {
      "model_module": "@jupyter-widgets/base",
      "model_module_version": "2.0.0",
      "model_name": "LayoutModel",
      "state": {}
     },
     "416ab01449c8436b8446c70b33f74c4e": {
      "model_module": "@jupyter-widgets/controls",
      "model_module_version": "2.0.0",
      "model_name": "HTMLStyleModel",
      "state": {
       "description_width": "",
       "font_size": null,
       "text_color": null
      }
     },
     "42edf490499141a7a271a274424dfd44": {
      "model_module": "@jupyter-widgets/base",
      "model_module_version": "2.0.0",
      "model_name": "LayoutModel",
      "state": {}
     },
     "54a73cc6662d4181916e96250a8566ea": {
      "model_module": "@jupyter-widgets/base",
      "model_module_version": "2.0.0",
      "model_name": "LayoutModel",
      "state": {}
     },
     "6447c9f9f4454e98b08358544bfad6cb": {
      "model_module": "@jupyter-widgets/controls",
      "model_module_version": "2.0.0",
      "model_name": "ProgressStyleModel",
      "state": {
       "description_width": ""
      }
     },
     "6a686a95e4b24e3593cf7e8f27a58d6e": {
      "model_module": "@jupyter-widgets/controls",
      "model_module_version": "2.0.0",
      "model_name": "HTMLModel",
      "state": {
       "layout": "IPY_MODEL_80d624666f2f4588a3bc471585831178",
       "style": "IPY_MODEL_c6af959a4d3345999b9036db088eb7d9",
       "value": "100%"
      }
     },
     "786eec13352e4d4eb8acb128d3fecd5c": {
      "model_module": "@jupyter-widgets/controls",
      "model_module_version": "2.0.0",
      "model_name": "HBoxModel",
      "state": {
       "children": [
        "IPY_MODEL_fc3a1eb021ac419ab229bed9a295929f",
        "IPY_MODEL_b85b2f61992845098a12bdb1e1b63ee7",
        "IPY_MODEL_9ed14ab4b211483a82ae15c8f36250d6"
       ],
       "layout": "IPY_MODEL_42edf490499141a7a271a274424dfd44"
      }
     },
     "7a931714f48d47e197aa22cf60f2b0aa": {
      "model_module": "@jupyter-widgets/base",
      "model_module_version": "2.0.0",
      "model_name": "LayoutModel",
      "state": {}
     },
     "7b5c018ef5ff4f91b67e69f3cb694e90": {
      "model_module": "@jupyter-widgets/controls",
      "model_module_version": "2.0.0",
      "model_name": "HTMLStyleModel",
      "state": {
       "description_width": "",
       "font_size": null,
       "text_color": null
      }
     },
     "80d624666f2f4588a3bc471585831178": {
      "model_module": "@jupyter-widgets/base",
      "model_module_version": "2.0.0",
      "model_name": "LayoutModel",
      "state": {}
     },
     "8fd42bdb4904403e95796636dce6ab7a": {
      "model_module": "@jupyter-widgets/controls",
      "model_module_version": "2.0.0",
      "model_name": "HTMLModel",
      "state": {
       "layout": "IPY_MODEL_7a931714f48d47e197aa22cf60f2b0aa",
       "style": "IPY_MODEL_bc8d7b235c3a42499d0cffbd97a54e66",
       "value": " 2/2 [00:00&lt;00:00, 149.96it/s]"
      }
     },
     "9ed14ab4b211483a82ae15c8f36250d6": {
      "model_module": "@jupyter-widgets/controls",
      "model_module_version": "2.0.0",
      "model_name": "HTMLModel",
      "state": {
       "layout": "IPY_MODEL_1c7498af604c4fbba5814580ed50fd23",
       "style": "IPY_MODEL_416ab01449c8436b8446c70b33f74c4e",
       "value": " 2/2 [00:00&lt;00:00, 264.32it/s]"
      }
     },
     "a06fabab25704ffc880a1cce1e5b0473": {
      "model_module": "@jupyter-widgets/base",
      "model_module_version": "2.0.0",
      "model_name": "LayoutModel",
      "state": {}
     },
     "a09807ab78aa42ab8cefe77ef0ce5ea7": {
      "model_module": "@jupyter-widgets/controls",
      "model_module_version": "2.0.0",
      "model_name": "FloatProgressModel",
      "state": {
       "bar_style": "success",
       "layout": "IPY_MODEL_a06fabab25704ffc880a1cce1e5b0473",
       "max": 2,
       "style": "IPY_MODEL_6447c9f9f4454e98b08358544bfad6cb",
       "value": 2
      }
     },
     "a5178bcd87e248b394f1f448c0db2c16": {
      "model_module": "@jupyter-widgets/base",
      "model_module_version": "2.0.0",
      "model_name": "LayoutModel",
      "state": {}
     },
     "b85b2f61992845098a12bdb1e1b63ee7": {
      "model_module": "@jupyter-widgets/controls",
      "model_module_version": "2.0.0",
      "model_name": "FloatProgressModel",
      "state": {
       "bar_style": "success",
       "layout": "IPY_MODEL_d905ecc9323b4fbdb24c6d33089df57d",
       "max": 2,
       "style": "IPY_MODEL_1a2fd2a7cf054dada0d5165350bf55ef",
       "value": 2
      }
     },
     "bc8d7b235c3a42499d0cffbd97a54e66": {
      "model_module": "@jupyter-widgets/controls",
      "model_module_version": "2.0.0",
      "model_name": "HTMLStyleModel",
      "state": {
       "description_width": "",
       "font_size": null,
       "text_color": null
      }
     },
     "c6af959a4d3345999b9036db088eb7d9": {
      "model_module": "@jupyter-widgets/controls",
      "model_module_version": "2.0.0",
      "model_name": "HTMLStyleModel",
      "state": {
       "description_width": "",
       "font_size": null,
       "text_color": null
      }
     },
     "d407c5f8a0364fd98195427461991493": {
      "model_module": "@jupyter-widgets/controls",
      "model_module_version": "2.0.0",
      "model_name": "HBoxModel",
      "state": {
       "children": [
        "IPY_MODEL_6a686a95e4b24e3593cf7e8f27a58d6e",
        "IPY_MODEL_a09807ab78aa42ab8cefe77ef0ce5ea7",
        "IPY_MODEL_8fd42bdb4904403e95796636dce6ab7a"
       ],
       "layout": "IPY_MODEL_54a73cc6662d4181916e96250a8566ea"
      }
     },
     "d905ecc9323b4fbdb24c6d33089df57d": {
      "model_module": "@jupyter-widgets/base",
      "model_module_version": "2.0.0",
      "model_name": "LayoutModel",
      "state": {}
     },
     "fc3a1eb021ac419ab229bed9a295929f": {
      "model_module": "@jupyter-widgets/controls",
      "model_module_version": "2.0.0",
      "model_name": "HTMLModel",
      "state": {
       "layout": "IPY_MODEL_a5178bcd87e248b394f1f448c0db2c16",
       "style": "IPY_MODEL_7b5c018ef5ff4f91b67e69f3cb694e90",
       "value": "100%"
      }
     }
    },
    "version_major": 2,
    "version_minor": 0
   }
  }
 },
 "nbformat": 4,
 "nbformat_minor": 5
}
